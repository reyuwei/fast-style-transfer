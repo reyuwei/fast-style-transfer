{
 "cells": [
  {
   "cell_type": "code",
   "execution_count": 7,
   "metadata": {},
   "outputs": [],
   "source": [
    "import os\n",
    "in_path = \"/data/new_disk/liyuwei/arts/fast-style-transfer/data/wikiart\"\n",
    "files = []\n",
    "for (dirpath, dirnames, filenames) in os.walk(in_path):\n",
    "    # print(dirpath, dirnames, len(filenames))\n",
    "    # print(\"----\")\n",
    "    if len(filenames) > 0:\n",
    "        files.extend([os.path.join(dirpath, f) for f in filenames])"
   ]
  },
  {
   "cell_type": "code",
   "execution_count": 9,
   "metadata": {},
   "outputs": [
    {
     "data": {
      "text/plain": [
       "81446"
      ]
     },
     "execution_count": 9,
     "metadata": {},
     "output_type": "execute_result"
    }
   ],
   "source": [
    "len(files)"
   ]
  },
  {
   "cell_type": "code",
   "execution_count": null,
   "metadata": {},
   "outputs": [],
   "source": []
  }
 ],
 "metadata": {
  "kernelspec": {
   "display_name": "Python 3.8.10 ('126')",
   "language": "python",
   "name": "python3"
  },
  "language_info": {
   "codemirror_mode": {
    "name": "ipython",
    "version": 3
   },
   "file_extension": ".py",
   "mimetype": "text/x-python",
   "name": "python",
   "nbconvert_exporter": "python",
   "pygments_lexer": "ipython3",
   "version": "3.8.10"
  },
  "orig_nbformat": 4,
  "vscode": {
   "interpreter": {
    "hash": "661bbae010b08c0e265c88c7fd03f4585add6d127bfba48de68bdd901dc73d71"
   }
  }
 },
 "nbformat": 4,
 "nbformat_minor": 2
}
